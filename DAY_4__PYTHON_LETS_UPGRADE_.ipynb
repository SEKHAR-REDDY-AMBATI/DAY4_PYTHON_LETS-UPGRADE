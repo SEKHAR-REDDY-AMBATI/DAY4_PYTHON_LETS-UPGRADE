{
  "nbformat": 4,
  "nbformat_minor": 0,
  "metadata": {
    "colab": {
      "name": "DAY 4 _PYTHON_LETS UPGRADE .ipynb",
      "provenance": []
    },
    "kernelspec": {
      "name": "python3",
      "display_name": "Python 3"
    },
    "language_info": {
      "name": "python"
    }
  },
  "cells": [
    {
      "cell_type": "markdown",
      "metadata": {
        "id": "SzwTHRjPUT9S"
      },
      "source": [
        "# **Python Program to convert temperature in celsius to fahrenheit**"
      ]
    },
    {
      "cell_type": "markdown",
      "metadata": {
        "id": "ClAMNMzcUcLx"
      },
      "source": [
        "# ***SEKHAR REDDY / sekharreddy717.niper@gmail.com / +918331995717 ***"
      ]
    },
    {
      "cell_type": "markdown",
      "metadata": {
        "id": "QR0RXznfUplX"
      },
      "source": [
        "# ***DAY3 ASSIGNMENT _ PYTHON _ LETS UPGRADE ***"
      ]
    },
    {
      "cell_type": "code",
      "metadata": {
        "colab": {
          "base_uri": "https://localhost:8080/",
          "height": 0
        },
        "id": "qeqYoU4bTYTA",
        "outputId": "a9638bba-f0d4-43f5-f6ff-6969516de5f4"
      },
      "source": [
        "# Python Program to convert temperature in celsius to fahrenheit\n",
        "\n",
        "# change this value for a different result\n",
        "celsius = 50\n",
        "\n",
        "# calculate fahrenheit\n",
        "fahrenheit = (celsius * 1.8) + 32\n",
        "print('%0.1f degree Celsius is equal to %0.1f degree Fahrenheit' %(celsius,fahrenheit))"
      ],
      "execution_count": 2,
      "outputs": [
        {
          "output_type": "stream",
          "text": [
            "50.0 degree Celsius is equal to 122.0 degree Fahrenheit\n"
          ],
          "name": "stdout"
        }
      ]
    }
  ]
}